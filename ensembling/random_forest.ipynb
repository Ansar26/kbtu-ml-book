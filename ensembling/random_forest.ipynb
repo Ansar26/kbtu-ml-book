{
 "cells": [
  {
   "cell_type": "markdown",
   "id": "d9d58809",
   "metadata": {},
   "source": [
    "# Random Forest"
   ]
  },
  {
   "cell_type": "markdown",
   "id": "4f93ada4",
   "metadata": {},
   "source": [
    "## Motivation\n",
    "\n",
    "Below is an Ox a cow from a weight judging competition from 1906 year. 787 participants guessed the weight of the cow. The median error of individual guesses was around 3.1%, while overall median of the guesses was only 0.7%. This is an example of the wisdom of the crowd principle used for <b>ensemble</b> training. "
   ]
  },
  {
   "cell_type": "markdown",
   "id": "00eff4d1",
   "metadata": {},
   "source": [
    "### Ox - a cow\n",
    "\n",
    "```{image} ml_rf1.jpg\n",
    ":alt: img-recognition\n",
    ":class: bg-primary mb-1\n",
    ":width: 500px\n",
    ":align: center\n",
    "```"
   ]
  },
  {
   "cell_type": "markdown",
   "id": "442f9569",
   "metadata": {},
   "source": [
    "### Predictions of the crowd\n",
    "\n",
    "```{image} ml_rf2.jpg\n",
    ":alt: img-recognition\n",
    ":class: bg-primary mb-1\n",
    ":width: 500px\n",
    ":align: center\n",
    "```"
   ]
  },
  {
   "cell_type": "markdown",
   "id": "2b131b79",
   "metadata": {},
   "source": [
    "Mathematically this approach comes from bias-variance decomposition principle, where an error of the estimator is happen to come from bias of the estimator and its variance. Assuming, we have a lot of unbiased simple estimators, by combining them we can reduce the variance of the overall prediction, thus reducing the error. \n",
    "\n",
    "Mathematically, it can also be seen from the [Central Limit Theorem](https://en.wikipedia.org/wiki/Central_limit_theorem) in statistics. Where, the more samples we have, the less the variance term would be. And it will decrease as $ \\frac{1}{N} $.\n",
    "\n",
    "For this method to work, simple predictors must not be highly correlated. Otherwise, variance decrease would be much smaller. "
   ]
  },
  {
   "cell_type": "markdown",
   "id": "0ef6963e",
   "metadata": {},
   "source": [
    "## Random forest\n",
    "\n",
    "Random Forest uses this idea to train multiple decision trees and then combine them together into an ensemble. Each decision tree is trained using some random noise that comes from the way they are trained. They are two approaches <b>bagging</b> and <b>attribute sampling</b> that allows to train weakly correlated individual trees, which we will discuss below. "
   ]
  },
  {
   "cell_type": "markdown",
   "id": "8db66b63",
   "metadata": {},
   "source": [
    "## Bagging\n",
    "\n",
    "Idea of bagging or <b>b</b>ootstrap <b>agg</b>regat<b>ing</b> comes from statistical bootstrap method, where training data for the individual decision tree is sampled from the original training data with replacement, so that the final size of data is still equal to the original size. The sampled subset is typically of the size 67% of the original data. To fill the remaining size, replacement is used. Let's consider how bagging splits the training data on example of a dataset of size 6. "
   ]
  },
  {
   "cell_type": "markdown",
   "id": "3f81c723",
   "metadata": {},
   "source": [
    "| Tree id | Sample 1 | Sample 2 | Sample 3 | Sample 4 | Sample 5 | Sample 6 |\n",
    "|:-------:|----------|----------|----------|----------|----------|----------|\n",
    "| Original data | 1 | 1 | 1 | 1 | 1 | 1 |\n",
    "| 1st Tree | 1 | 2 | 0 | 2 | 0 | 1 |\n",
    "| 2nd Tree | 0 | 1 | 1 | 0 | 3 | 1 |\n",
    "| 3rd Tree | 2 | 0 | 1 | 2 | 1 | 0 |"
   ]
  },
  {
   "cell_type": "markdown",
   "id": "fbd65acd",
   "metadata": {},
   "source": [
    "Each row represents whether the sample is included for the training of the tree and number of resamplments of the data point, so that in total sum of resamplements is 6. This kind of method already influences into making trees less correlated."
   ]
  },
  {
   "cell_type": "markdown",
   "id": "78c3fb2f",
   "metadata": {},
   "source": [
    "## Attribute sampling\n",
    "\n",
    "Attribute sampling means that at each split of the decision trees instead of looking at the whole set of available features, we only look at the subset of features which are chosen randomly. For regression task usually one third of total number of available features are considered, while for classification usually square root of total number of features are considered. This method is similar to a droupout technique in neural networks where we drop a proportion of available features, which helps to prevent overfitting. But, for training random forests it usually is used for making individual trees different from one each other, so that their ensemble will be stronger than each possibly individual tree could be. \n"
   ]
  },
  {
   "cell_type": "markdown",
   "id": "d6e7f742",
   "metadata": {},
   "source": [
    "### Attribute sampling\n",
    "\n",
    "```{image} ml_rf3.jpg\n",
    ":alt: img-recognition\n",
    ":class: bg-primary mb-1\n",
    ":width: 500px\n",
    ":align: center\n",
    "```"
   ]
  },
  {
   "cell_type": "markdown",
   "id": "58fdcc24",
   "metadata": {},
   "source": [
    "Consider an example above, with four features in total, but only three of them are randomly picked (light yellow color) during each split to decide the best split (red color for the best split). "
   ]
  },
  {
   "cell_type": "markdown",
   "id": "5c77db97",
   "metadata": {},
   "source": [
    "In `sklearn` package, we can pass the attribute sampling parameter through `max_features` parameter into both `RandomForestClassifier` and `RandomForestRegressor` clases. It accepts integers to define number explicitly, floats as a ratio from total number of features, and using keywords like `sqrt` for a square root from total number."
   ]
  },
  {
   "cell_type": "markdown",
   "id": "8784dcf5",
   "metadata": {},
   "source": [
    "## Synthetic example of benefits from ensemble \n",
    "\n",
    "Let's create a syntethic example of classifying points being inside circle of radius 0.8."
   ]
  },
  {
   "cell_type": "code",
   "execution_count": 83,
   "id": "7edccc04",
   "metadata": {},
   "outputs": [],
   "source": [
    "import pandas as pd\n",
    "import numpy as np\n",
    "import matplotlib.pyplot as plt\n",
    "\n",
    "x1, x2 = np.meshgrid(np.linspace(-1, 1, 300), np.linspace(-1, 1, 300))\n",
    "x1, x2 = x1.reshape(300 * 300), x2.reshape(300 * 300)\n",
    "\n",
    "ys = []\n",
    "for a, b in zip(x1, x2):\n",
    "    ys.append(a ** 2 + b ** 2 <= 0.8)\n",
    "    \n",
    "df = pd.DataFrame({\n",
    "    'x1': x1,\n",
    "    'x2': x2,\n",
    "    'y': ys\n",
    "})\n",
    "\n",
    "def plot(inside, plt, title):\n",
    "    plt.plot(df[~inside].x1, df[~inside].x2, '.', label = 'outside')\n",
    "    plt.plot(df[inside].x1, df[inside].x2, '.', label = 'inside')\n",
    "    plt.set_title(title)\n",
    "    plt.legend()"
   ]
  },
  {
   "cell_type": "markdown",
   "id": "826f8938",
   "metadata": {},
   "source": [
    "Train random forest classifier."
   ]
  },
  {
   "cell_type": "code",
   "execution_count": 84,
   "id": "56c11936",
   "metadata": {},
   "outputs": [],
   "source": [
    "from sklearn.ensemble import RandomForestClassifier\n",
    "\n",
    "X = df[['x1', 'x2']].values\n",
    "clf = RandomForestClassifier(max_depth = 7, n_estimators = 10, random_state=0)\n",
    "clf.fit(X, df.y)\n",
    "y_pred = clf.predict(X)"
   ]
  },
  {
   "cell_type": "markdown",
   "id": "2516a560",
   "metadata": {},
   "source": [
    "Show predictions and true labels. We can see that we have good classifications using random forest, which can be further improved by increasing `max_depth` parameter."
   ]
  },
  {
   "cell_type": "code",
   "execution_count": 85,
   "id": "4f7551a5",
   "metadata": {},
   "outputs": [
    {
     "data": {
      "image/png": "[encoded data removed]",
      "text/plain": [
       "<Figure size 720x360 with 2 Axes>"
      ]
     },
     "metadata": {
      "needs_background": "light"
     },
     "output_type": "display_data"
    }
   ],
   "source": [
    "fig, axs = plt.subplots(1, 2, figsize=(10, 5))\n",
    "plot(df.y, axs[0], 'True label')\n",
    "plot(y_pred, axs[1], 'Predictions')\n",
    "plt.show()"
   ]
  },
  {
   "cell_type": "markdown",
   "id": "c7e9d09c",
   "metadata": {},
   "source": [
    "Now let's look into individual predictions. We can see that their quality is much worse than the random forest ensemble. But, on average they are better than each individual tree."
   ]
  },
  {
   "cell_type": "code",
   "execution_count": 86,
   "id": "57811443",
   "metadata": {},
   "outputs": [
    {
     "data": {
      "image/png": "[encoded data removed]",
      "text/plain": [
       "<Figure size 864x252 with 3 Axes>"
      ]
     },
     "metadata": {
      "needs_background": "light"
     },
     "output_type": "display_data"
    }
   ],
   "source": [
    "fig, axs = plt.subplots(1, 3, figsize=(12, 3.5))\n",
    "for i in range(3):\n",
    "    y_pred = clf.estimators_[i].predict(X)\n",
    "    plot(y_pred > 0.5, axs[i], 'Tree %d' % (i + 1))\n",
    "plt.show()"
   ]
  },
  {
   "cell_type": "markdown",
   "id": "75041836",
   "metadata": {},
   "source": [
    "## Does random forest overfit?\n",
    "\n",
    "There is a general property of a random forest that when we increase number of decision trees in the ensemble the accuracy almost never reduces on the validation dataset. Which means adding more decision trees cannot lead random forest to overfit. Let's test it on the `California Housing dataset`.\n",
    "\n",
    "First let's look into the general training procedure of the `RandomForestRegressor` class."
   ]
  },
  {
   "cell_type": "code",
   "execution_count": 114,
   "id": "0174e2ac",
   "metadata": {},
   "outputs": [
    {
     "name": "stdout",
     "output_type": "stream",
     "text": [
      "Mean Squared Error: 0.26\n",
      "R-squared (R2) Score: 0.81\n"
     ]
    }
   ],
   "source": [
    "from sklearn.datasets import fetch_california_housing\n",
    "from sklearn.model_selection import train_test_split\n",
    "from sklearn.ensemble import RandomForestRegressor\n",
    "from sklearn.metrics import mean_squared_error, r2_score\n",
    "\n",
    "# Load the California Housing dataset as an example\n",
    "data = fetch_california_housing()\n",
    "X = data.data\n",
    "y = data.target\n",
    "\n",
    "# Split the data into training and testing sets\n",
    "X_train, X_test, y_train, y_test = train_test_split(X, y, test_size=0.2, random_state=42)\n",
    "\n",
    "# Create a Random Forest Regressor with 100 trees (estimators)\n",
    "rf_regressor = RandomForestRegressor(n_estimators=100, random_state=42)\n",
    "\n",
    "# Train the Random Forest Regressor on the training data\n",
    "rf_regressor.fit(X_train, y_train)\n",
    "\n",
    "# Make predictions on the test data\n",
    "y_pred = rf_regressor.predict(X_test)\n",
    "\n",
    "# Evaluate the model's performance\n",
    "mse = mean_squared_error(y_test, y_pred)\n",
    "r2 = r2_score(y_test, y_pred)\n",
    "\n",
    "print(f\"Mean Squared Error: {mse:.2f}\")\n",
    "print(f\"R-squared (R2) Score: {r2:.2f}\")"
   ]
  },
  {
   "cell_type": "markdown",
   "id": "442ea2bc",
   "metadata": {},
   "source": [
    "Now define a function which would return r2 score from a regressor model. And train random forest models with different `n_estimators` parameter, which corresponds to number of decision trees in the ensemble."
   ]
  },
  {
   "cell_type": "code",
   "execution_count": 115,
   "id": "ea58113a",
   "metadata": {},
   "outputs": [],
   "source": [
    "def get_r2(rf_model):\n",
    "    rf_model.fit(X_train, y_train)\n",
    "    y_pred = rf_model.predict(X_test)\n",
    "    mse = mean_squared_error(y_test, y_pred)\n",
    "    \n",
    "    return r2_score(y_test, y_pred)\n",
    "\n",
    "\n",
    "nestimators = []\n",
    "r2s = []\n",
    "for i in range(1, 102, 10):\n",
    "    rf_model = RandomForestRegressor(n_estimators=i, random_state=42)\n",
    "    r2 = get_r2(rf_model)\n",
    "    nestimators.append(i)\n",
    "    r2s.append(r2)"
   ]
  },
  {
   "cell_type": "markdown",
   "id": "25cf7140",
   "metadata": {},
   "source": [
    "From the plot below we can see that our accuracy will keep improving, but never reduces after adding additional trees. Which means this parameter never leads to overfitting, but can only slow down the training. Since, it is more expensive to train many trees. Therefore, middle point of accuracy and fast training should be chosen.  "
   ]
  },
  {
   "cell_type": "code",
   "execution_count": 116,
   "id": "e6cc76fa",
   "metadata": {},
   "outputs": [
    {
     "data": {
      "image/png": "[encoded data removed]",
      "text/plain": [
       "<Figure size 720x360 with 1 Axes>"
      ]
     },
     "metadata": {
      "needs_background": "light"
     },
     "output_type": "display_data"
    }
   ],
   "source": [
    "plt.figure(figsize=(10, 5))\n",
    "plt.plot(nestimators, r2s, '.--', label='r2 score')\n",
    "plt.title('Performance on the validation dataset.')\n",
    "plt.legend(loc='lower right')\n",
    "plt.show()"
   ]
  },
  {
   "cell_type": "markdown",
   "id": "0b535ca4",
   "metadata": {},
   "source": [
    "## Feature importance"
   ]
  },
  {
   "cell_type": "markdown",
   "id": "1500510f",
   "metadata": {},
   "source": [
    "`SkLearn` provides a very convenient way to understand which feature is considered important for making a prediction in random forests. It provides calculated importances based on the [impurity reduction](https://scikit-learn.org/stable/modules/generated/sklearn.ensemble.RandomForestRegressor.html#sklearn.ensemble.RandomForestRegressor.feature_importances_). We know that each node in the decision tree performs the split of the data based on some impurity criterion, mean square error for regression tasks and gini/entropy for a classification task. Each node using feature values performs the split that reduces impurity of the data. And normalized total reduction of impurity brought by a feature is calculated in `feature_importances_` attribute.\n",
    "\n",
    "Let's get back to our `California Housing dataset`, and see which features are more important. The higher the value, the higher is importance, which can be used for further feature selection."
   ]
  },
  {
   "cell_type": "code",
   "execution_count": 133,
   "id": "9f231b47",
   "metadata": {},
   "outputs": [
    {
     "data": {
      "text/plain": [
       "<AxesSubplot:ylabel='feature_names'>"
      ]
     },
     "execution_count": 133,
     "metadata": {},
     "output_type": "execute_result"
    },
    {
     "data": {
      "image/png": "[encoded data removed]",
      "text/plain": [
       "<Figure size 432x288 with 1 Axes>"
      ]
     },
     "metadata": {
      "needs_background": "light"
     },
     "output_type": "display_data"
    }
   ],
   "source": [
    "importance_df = pd.DataFrame({\n",
    "    'feature_importance': rf_regressor.feature_importances_,\n",
    "    'feature_names': data.feature_names\n",
    "})\n",
    "\n",
    "importance_df.sort_values('feature_importance', inplace=True)\n",
    "importance_df.set_index('feature_names', inplace=True)\n",
    "\n",
    "importance_df.plot(kind='barh')"
   ]
  },
  {
   "cell_type": "code",
   "execution_count": null,
   "id": "e87f6d23",
   "metadata": {},
   "outputs": [],
   "source": []
  },
  {
   "cell_type": "code",
   "execution_count": null,
   "id": "9386f408",
   "metadata": {},
   "outputs": [],
   "source": []
  }
 ],
 "metadata": {
  "kernelspec": {
   "display_name": "Python 3",
   "language": "python",
   "name": "python3"
  },
  "language_info": {
   "codemirror_mode": {
    "name": "ipython",
    "version": 3
   },
   "file_extension": ".py",
   "mimetype": "text/x-python",
   "name": "python",
   "nbconvert_exporter": "python",
   "pygments_lexer": "ipython3",
   "version": "3.9.12"
  }
 },
 "nbformat": 4,
 "nbformat_minor": 5
}
